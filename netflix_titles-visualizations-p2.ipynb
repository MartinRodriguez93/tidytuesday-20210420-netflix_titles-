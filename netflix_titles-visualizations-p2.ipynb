#Analyze if duration of the movies/tv shows increased or decreased over the years

#Remove movies/tv shows with season/seasons as duration_list_unit:
nf_titles_min=nf_titles_df_final.loc[nf_titles_df_final['duration_list_unit']=='min',:]

#Avg duration per year:
nf_titles_min=nf_titles_min.groupby(['year_added'],as_index = False)['duration_list_q'].mean()

avg_min_line=px.line(data_frame=nf_titles_min,
             x='year_added',
             y='duration_list_q',
             title="Avg movies/tv shows duration per year",
             labels={'duration_list_q':'Duration in minutes',
                     'year_added':'Year'})
avg_min_line.update_traces(hovertemplate='<b>Year: </b>%{x}<br><b>Avg. duration (min): </b>%{y}')

---------------------------------------------------------------------------------------------------------------

#Analyze duration of the movies/tv shows between top 5 countries

#Remove movies/tv shows with season/seasons as duration_list_unit:
nf_titles_min_country=nf_titles_df_final.loc[nf_titles_df_final['duration_list_unit']=='min',:]

#Avg duration per year:
nf_titles_min_country=nf_titles_min_country.groupby(['country','year_added'],as_index = False)['duration_list_q'].mean()
nf_titles_min_country=nf_titles_min_country.loc[nf_titles_min_country['country'].isin(top5_countries),:]
nf_titles_min_country=nf_titles_min_country.sort_values('year_added')

#Line
avg_min_line_country=px.line(data_frame=nf_titles_min_country,
                     x='year_added',
                     y='duration_list_q',
                     color='country',        
                     title="Avg movies/tv shows duration per year per country",
                     labels={'duration_list_q':'Duration in minutes',
                             'year_added':'Year'})
avg_min_line_country.update_traces(hovertemplate='<b>Year: </b>%{x}<br><b>Avg. duration (min): </b>%{y}')
avg_min_line_country.update_layout(legend=dict(
                            yanchor="top",
                            y=0.99,
                            xanchor="left",
                            x=0.01)
                     )
                     
---------------------------------------------------------------------------------------------------------------

#Number of movies/tv shows per director:

#Quantity of movies/tvshows per director:
df_shows_director=nf_df_ex_director2.groupby(['director'],as_index = False)['show_id'].count().sort_values('show_id',ascending=False)

#Replace countries with Nan values of movies/tvshows: 
df_shows_director['director']=df_shows_director['director'].fillna(0)

#% over total column: df_shows_country['perc_over_total']
df_shows_director['perc_over_total']=df_shows_director['show_id']/sum(df_shows_director['show_id'])

#Top 10 share of total movies_tvshows: 2,5%
sum(df_shows_director['perc_over_total'][:10])

df_shows_director.describe()

---------------------------------------------------------------------------------------------------------------

#Share of rating over total movies/tv shows:

#Quantity of movies/tv shows per rating:
df_shows_rating=(nf_titles_df_final
                                   .groupby('rating',as_index = False)['show_id']
                                   .count()
                                   .sort_values('show_id',ascending=False)
                                   .reset_index(drop=True)
)

#Pie:
pie_shows_rating=px.pie(data_frame=df_shows_rating,
       names='rating',
       values='show_id',
       title='Share of rating over total movies/tv shows')
pie_shows_rating.update_traces(hovertemplate='<b>Rating: </b>%{label}<br><b>Quantity: </b>%{value}')
pie_shows_rating.show()

---------------------------------------------------------------------------------------------------------------

#Wordcloud of listed_in:

#Quantity of movies/tv shows per class:
df_shows_listed_in=(nf_df_ex_listed_in
                                      .groupby('listed_in',as_index = False)['show_id']
                                      .count()
                                      .sort_values('show_id',ascending=False)
                                      .reset_index(drop=True)
)

#Replace blanks from column listed_in
df_shows_listed_in['listed_in']=[i.replace(' ','').replace('&','').replace('-','') for i in df_shows_listed_in['listed_in']]

#Unigram for WordCloud (each class times its quantity):
unigram_shows_listed_in=sum([[s] * n for s, n in zip(list(df_shows_listed_in['listed_in']),
                                                     list(df_shows_listed_in['show_id']))
                            ],
                                                     []
                           )

#Check unigram len (should be 0:)
len(unigram_shows_listed_in)-sum(list(df_shows_listed_in['show_id']))

#listed_in WordCloud:
plt.figure(figsize=(20,10))
wordcloud=WordCloud(width=2000,
                    height=1000,
                    max_font_size=200,
                    max_words=100,
                    random_state=1,
                    background_color='white',
                    collocations=False,
                    colormap='Set2',#Source: https://matplotlib.org/stable/tutorials/colors/colormaps.html
                   ).generate(' '.join(unigram_shows_listed_in))
plt.imshow(wordcloud)
plt.axis('off')
plt.show()

---------------------------------------------------------------------------------------------------------------
#Analysis on Argentina:

#Check movies/tv shows with Argentina+Rest of the world: 26
nf_titles_df_final["country"].str.find('Argentina')
nf_titles_df_final.loc[nf_titles_df_final['country_arg']>-1,:].shape[0]-nf_titles_df_final.loc[nf_titles_df_final['country']=='Argentina',:].shape[0]

#Argentina DF based on nf_df_ex_country:
nf_df_arg=nf_df_ex_country.loc[nf_df_ex_country['country'].isin(['Argentina']),:].reset_index(drop=True)

#Rest of the world DF based on nf_df_ex_country:
nf_df_rest=nf_df_ex_country.loc[nf_df_ex_country['country']!='Argentina',:].reset_index(drop=True)

#Create country_class column:
nf_df_ex_country['country_class']=np.where(nf_df_ex_country['country']=='Argentina','Argentina','Rest of the World')

---------------------------------------------------------------------------------------------------------------

#Explode director column with more than 1 director based on nf_df_arg:
nf_df_arg_ex_dir=nf_df_arg.assign(director=nf_df_arg['director'].str.split(",")).explode('director')

#Clean ' ' in director list:
arg_director_list=[i for i in nf_df_arg_ex_dir['director']]
arg_director_list2=[i.split(',')[0].strip() for i in arg_director_list]

#Replace column with arg_director_list2:
nf_df_arg_ex_dir['director']=arg_director_list2

#Reset index after explode:
nf_df_arg_ex_dir=nf_df_arg_ex_dir.reset_index(drop=True)

#Check for '' extra index director: no result
nf_df_arg_ex_dir.loc[nf_df_arg_ex_dir['director']=='',:]

#Check unique show_id (should be 0): 0
len(set(list(nf_df_arg_ex_dir['show_id'])))-len(set(list(nf_df_arg_ex_dir['show_id'])))

---------------------------------------------------------------------------------------------------------------

#Explode cast column with more than 1 actor based on nf_df_arg_ex_dir:
nf_df_arg_ex_cast=nf_df_arg_ex_dir.assign(cast=nf_df_arg_ex_dir['cast'].str.split(",")).explode('cast')

#Clean ' ' in director list:
arg_cast_list=[i for i in nf_df_arg_ex_cast['director']]
arg_cast_list2=[i.split(',')[0].strip() for i in arg_cast_list]

#Replace column with arg_director_list2:
nf_df_arg_ex_cast['director']=arg_cast_list2

#Reset index after explode:
nf_df_arg_ex_cast=nf_df_arg_ex_cast.reset_index(drop=True)

#Check for '' extra index director: no result
nf_df_arg_ex_cast.loc[nf_df_arg_ex_cast['director']=='',:]

#Check unique show_id (should be 0): 0
len(set(list(nf_df_arg_ex_cast['show_id'])))-len(set(list(nf_df_arg_ex_cast['show_id'])))

---------------------------------------------------------------------------------------------------------------

#Arg vs Rest of the world: total movies and tv shows added per year

#Quantity of movies/tvshows per country (each country represents 1 movie/tv show):
df_shows_yearadded_class=nf_df_ex_country.groupby(['year_added','country_class'],as_index = False)['show_id'].count()
df_shows_yearadded_class=df_shows_yearadded_class.pivot('year_added', 'country_class', 'show_id').reset_index()

#Replace countries with Nan values of movies/tvshows: 
df_shows_yearadded_class['Argentina']=df_shows_yearadded_class['Argentina'].fillna(0)
df_shows_yearadded_class['Rest of the World']=df_shows_yearadded_class['Rest of the World'].fillna(0)

df_shows_yearadded_class['Total']=df_shows_yearadded_class['Argentina']+df_shows_yearadded_class['Rest of the World']
df_shows_yearadded_class=df_shows_yearadded_class.sort_values('year_added').reset_index(drop=True)

#Bar plot movies/tvshows added per year:
argvsrow_yearadded=px.bar(data_frame=df_shows_yearadded_class,
                     x='year_added',
                     y=['Argentina','Rest of the World'],
                     title="Arg vs Rest of the world: total movies and tv shows added per year",
                     hover_data={'Total':False},
                     labels={'value':'Quantity',
                             'year_added':'Year',
                             'variable':'Country'}
              )
argvsrow_yearadded.update_traces(textposition='outside',
                            hovertemplate='<b>Year: </b>%{x}<br><b>Quantity: </b>%{y}')
argvsrow_yearadded.update_layout(legend=dict(
                            yanchor="top",
                            y=0.99,
                            xanchor="left",
                            x=0.01),
                            barmode='group'
              )
argvsrow_yearadded.show()

---------------------------------------------------------------------------------------------------------------

#Compare avg movie/tv shows duration with rest of NF

#Remove movies/tv shows with season/seasons as duration_list_unit:
nf_titles_country_min=nf_df_ex_country.loc[nf_df_ex_country['duration_list_unit']=='min',:]

#Avg duration per year:
nf_titles_country_min=nf_titles_country_min.groupby(['country_class','year_added'],as_index = False)['duration_list_q'].mean().sort_values('year_added').reset_index(drop=True)

#Line Graph:
avg_min_line_argvsrow=px.line(data_frame=nf_titles_country_min,
                     x='year_added',
                     y='duration_list_q',
                     color='country_class',        
                     title="Arg vs Rest of the world: Avg movies/tv shows duration per year added",
                     labels={'duration_list_q':'Duration in minutes',
                             'year_added':'Year',
                            'country_class':'Country'})
avg_min_line_argvsrow.update_traces(hovertemplate='<b>Year: </b>%{x}<br><b>Avg. duration (min): </b>%{y}')
avg_min_line_argvsrow.update_layout(legend=dict(
                            yanchor="top",
                            y=0.99,
                            xanchor="left",
                            x=0.01)
                     )

