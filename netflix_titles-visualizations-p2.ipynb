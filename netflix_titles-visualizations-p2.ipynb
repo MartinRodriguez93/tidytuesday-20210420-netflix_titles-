#Analyze if duration of the movies/tv shows increased or decreased over the years

#Remove movies/tv shows with season/seasons as duration_list_unit:
nf_titles_min=nf_titles_df_final.loc[nf_titles_df_final['duration_list_unit']=='min',:]

#Avg duration per year:
nf_titles_min=nf_titles_min.groupby(['year_added'],as_index = False)['duration_list_q'].mean()

avg_min_line=px.line(data_frame=nf_titles_min,
             x='year_added',
             y='duration_list_q',
             title="Avg movies/tv shows duration per year",
             labels={'duration_list_q':'Duration in minutes',
                     'year_added':'Year'})
avg_min_line.update_traces(hovertemplate='<b>Year: </b>%{x}<br><b>Avg. duration (min): </b>%{y}')

---------------------------------------------------------------------------------------------------------------

#Analyze duration of the movies/tv shows between countries

#Avg duration per top 10 countries per year:
nf_titles_min_country=nf_titles_df_final.groupby(['country','year_added'],as_index = False)['duration_list_q'].mean()
nf_titles_min_country=nf_titles_min_country.loc[nf_titles_min_country['country'].isin(top5_countries),:]
nf_titles_min_country=nf_titles_min_country.sort_values('year_added')

avg_min_line_country=px.line(data_frame=nf_titles_min_country,
                     x='year_added',
                     y='duration_list_q',
                     color='country',        
                     title="Avg movies/tv shows duration per year per country",
                     labels={'duration_list_q':'Duration in minutes',
                             'year_added':'Year'})
avg_min_line_country.update_traces(hovertemplate='<b>Year: </b>%{x}<br><b>Avg. duration (min): </b>%{y}')
avg_min_line_country.update_layout(legend=dict(
                            yanchor="top",
                            y=0.99,
                            xanchor="left",
                            x=0.01)
                     )
                     
---------------------------------------------------------------------------------------------------------------

#Number of movies/tv shows per director:

#Quantity of movies/tvshows per director:
df_shows_director=nf_df_ex_director2.groupby(['director'],as_index = False)['show_id'].count().sort_values('show_id',ascending=False)

#Replace countries with Nan values of movies/tvshows: 
df_shows_director['director']=df_shows_director['director'].fillna(0)

#% over total column: df_shows_country['perc_over_total']
df_shows_director['perc_over_total']=df_shows_director['show_id']/sum(df_shows_director['show_id'])

#Top 10 share of total movies_tvshows: 2,5%
sum(df_shows_director['perc_over_total'][:10])

df_shows_director.describe()

---------------------------------------------------------------------------------------------------------------

#Share of rating over total movies/tv shows:

#Quantity of movies/tv shows per rating:
df_shows_rating=(nf_titles_df_final
                                   .groupby('rating',as_index = False)['show_id']
                                   .count()
                                   .sort_values('show_id',ascending=False)
                                   .reset_index(drop=True)
)

#Pie:
pie_shows_rating=px.pie(data_frame=df_shows_rating,
       names='rating',
       values='show_id',
       title='Share of rating over total movies/tv shows')
pie_shows_rating.update_traces(hovertemplate='<b>Rating: </b>%{label}<br><b>Quantity: </b>%{value}')
pie_shows_rating.show()
