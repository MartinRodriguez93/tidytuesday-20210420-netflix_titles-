import pandas as pd
from pandas.core.common import flatten
import json
import plotly.express as px
import matplotlib.pyplot as plt
import numpy as np
import plotly.graph_objects as go

nf_titles_df=pd.read_csv('/Users/martinrodriguez/Archivos Martin/Data Analytics/GitHub/netflix_titles/Datasets/netflix_titles.csv')

-------------------------------------------------------------------------------------------------------------

nf_titles_df.info()

#List of unique rows per column:
nf_titles_df_unique=[len(nf_titles_df[i].unique()) for i in nf_titles_df.columns]

#List of null values per column:
nf_titles_df_null=[nf_titles_df[i].isnull().sum() for i in nf_titles_df.columns]

#DF col, total rows, unique rows, null rows, and duplicate rows:
col_unique_rows=pd.DataFrame()
col_unique_rows=pd.DataFrame({'col':list(nf_titles_df.columns),
                              'total_rows':nf_titles_df.shape[0],
                              'unique_rows':nf_titles_df_unique,
                              'null_rows':nf_titles_df_null})
col_unique_rows=pd.DataFrame({'col':list(nf_titles_df.columns),
                              'total_rows':nf_titles_df.shape[0],
                              'unique_rows':nf_titles_df_unique,
                              'null_rows':nf_titles_df_null,
                              'duplicate_rows':col_unique_rows['total_rows']-col_unique_rows['unique_rows']})

-------------------------------------------------------------------------------------------------------------

#All null rows were removed from the original dataset.

#Remove null values from director column:
nf_titles_df_null1=nf_titles_df.loc[~nf_titles_df['director'].isnull(),:]

#Remove null values from cast column:
nf_titles_df_null2=nf_titles_df_null1.loc[~nf_titles_df_null1['cast'].isnull(),:]

#Remove null values from country column:
nf_titles_df_null3=nf_titles_df_null2.loc[~nf_titles_df_null2['country'].isnull(),:]

#Remove null values from date_added column:
nf_titles_df_null4=nf_titles_df_null3.loc[~nf_titles_df_null3['date_added'].isnull(),:]

#Remove null values from date_added column:
nf_titles_df_final=nf_titles_df_null4.loc[~nf_titles_df_null4['rating'].isnull(),:]

#Check null values per column (should be '0'):
[nf_titles_df_final[i].isnull().sum() for i in nf_titles_df_final.columns]

#Reset index:
nf_titles_df_final=nf_titles_df_final.reset_index(drop=True)

-------------------------------------------------------------------------------------------------------------

#Clean year_added:
year_added=[i for i in nf_titles_df_final['date_added']]
year_added=[i.split(',')[1].replace(' ','') for i in year_added]

#Unique year_added values:
set(year_added)

#Add column with year_added
nf_titles_df_final['year_added']=year_added

-------------------------------------------------------------------------------------------------------------

#Clean duration column:
duration_list=[i for i in nf_titles_df_final['duration']]

#Create duration quantity:
duration_list_q=[i.split(' ')[0] for i in duration_list]

#Create duration unit:
duration_list_unit=[i.split(' ')[1] for i in duration_list]

#Add column with duration_list_q:
nf_titles_df_final['duration_list_q']=duration_list_q

#Add column with duration_list_unit:
nf_titles_df_final['duration_list_unit']=duration_list_unit

#Identify movies/tv shows with duration_list_q season: 135
nf_titles_df_final.loc[nf_titles_df_final['duration_list_unit']!='min',['duration_list_q']]

#Identify unique number of seasons:
nf_titles_df_final.loc[nf_titles_df_final['duration_list_unit']!='min',['duration_list_q']].value_counts()

-------------------------------------------------------------------------------------------------------------

#Change datatypes:
nf_titles_df_final['duration_list_q']=nf_titles_df_final['duration_list_q'].astype(str).astype(int)

-------------------------------------------------------------------------------------------------------------

#Total quantity of movies/tvshows of repeated casts: 190
df_check_cast=nf_titles_df_final.groupby(['cast'],as_index = False)['show_id'].count().sort_values('show_id',ascending=False)
sum(df_check_cast.loc[df_check_cast['show_id']>1,'show_id'])

#Check cast that works in more than one movie/tvshow: 70
len(df_check_cast.loc[df_check_cast['show_id']>1,'cast'])

-------------------------------------------------------------------------------------------------------------

#Explode country column with more than 1 country:
nf_df_ex_country=nf_titles_df_final.assign(country=nf_titles_df_final['country'].str.split(",")).explode('country')

#Clean ' ' in country list:
country_list=[i for i in nf_df_ex_country['country']]
country_list2=[i.split(',')[0].strip() for i in country_list]
country_list2

#Replace column with country_list2:
nf_df_ex_country['country']=country_list2

#Reset index after explode:
nf_df_ex_country=nf_df_ex_country.reset_index(drop=True)

#Check for '' extra index country:
nf_df_ex_country=nf_df_ex_country.loc[nf_df_ex_country['country']!='',:]

#Reset index after loc:
nf_df_ex_country=nf_df_ex_country.reset_index(drop=True)

#Check unique show_id (should be 0): 0
len(set(list(nf_titles_df_final['show_id'])))-len(set(list(nf_df_ex_country['show_id'])))

-------------------------------------------------------------------------------------------------------------

#Explode cast column with more than 1 actor based on nf_df_ex_country:
nf_df_ex_cast=nf_df_ex_country.assign(cast=nf_df_ex_country['cast'].str.split(",")).explode('cast')

#Clean ' ' in cast list:
cast_list=[i for i in nf_df_ex_cast['cast']]
cast_list2=[i.split(',')[0].strip() for i in cast_list]

#Replace column with cast_list2:
nf_df_ex_cast['cast']=cast_list2

#Reset index after explode:
nf_df_ex_cast=nf_df_ex_cast.reset_index(drop=True)

#Check for '' extra index cast: no result
nf_df_ex_cast.loc[nf_df_ex_cast['cast']=='',:]

#Check unique show_id (should be 0): 0
len(set(list(nf_titles_df_final['show_id'])))-len(set(list(nf_df_ex_cast['show_id'])))

-------------------------------------------------------------------------------------------------------------

#Explode cast column with more than 1 director based on nf_titles_df_final:
nf_df_ex_cast2=nf_titles_df_final.assign(cast=nf_titles_df_final['cast'].str.split(",")).explode('cast')

#Clean ' ' in director list:
cast_list3=[i for i in nf_df_ex_cast2['cast']]
cast_list4=[i.split(',')[0].strip() for i in cast_list3]

#Replace column with cast_list4:
nf_df_ex_cast2['cast']=cast_list4

#Reset index after explode:
nf_df_ex_cast2=nf_df_ex_cast2.reset_index(drop=True)

#Check for '' extra index director: no result
nf_df_ex_cast2.loc[nf_df_ex_cast2['cast']=='',:]

#Check unique show_id (should be 0): 0
len(set(list(nf_titles_df_final['show_id'])))-len(set(list(nf_df_ex_cast2['show_id'])))

-------------------------------------------------------------------------------------------------------------

#Explode director column with more than 1 director based on nf_df_ex_cast:
nf_df_ex_director1=nf_df_ex_cast.assign(director=nf_df_ex_cast['director'].str.split(",")).explode('director')

#Clean ' ' in director list:
director_list=[i for i in nf_df_ex_director1['director']]
director_list2=[i.split(',')[0].strip() for i in director_list]

#Replace column with director_list2:
nf_df_ex_director1['director']=director_list2

#Reset index after explode:
nf_df_ex_director1=nf_df_ex_director1.reset_index(drop=True)

#Check for '' extra index director: no result
nf_df_ex_director1.loc[nf_df_ex_director1['director']=='',:]

#Check unique show_id (should be 0): 0
len(set(list(nf_titles_df_final['show_id'])))-len(set(list(nf_df_ex_director1['show_id'])))

-------------------------------------------------------------------------------------------------------------

#Explode director column with more than 1 director based on nf_titles_df_final:
nf_df_ex_director2=nf_titles_df_final.assign(director=nf_titles_df_final['director'].str.split(",")).explode('director')

#Clean ' ' in director list:
director_list3=[i for i in nf_df_ex_director2['director']]
director_list4=[i.split(',')[0].strip() for i in director_list3]

#Replace column with director_list4:
nf_df_ex_director2['director']=director_list4

#Reset index after explode:
nf_df_ex_director2=nf_df_ex_director2.reset_index(drop=True)

#Check for '' extra index director: no result
nf_df_ex_director2.loc[nf_df_ex_director2['director']=='',:]

#Check unique show_id (should be 0): 0
len(set(list(nf_titles_df_final['show_id'])))-len(set(list(nf_df_ex_director2['show_id'])))
