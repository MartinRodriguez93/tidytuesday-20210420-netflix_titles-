#Movies/tv shows produced per country: treemap

#Quantity of movies/tvshows per country:
df_shows_country=nf_df_ex_country.groupby(['country','type'],as_index = False)['show_id'].count()
df_shows_country=df_shows_country.pivot('country', 'type', 'show_id').reset_index()

#Replace countries with Nan values of movies/tvshows: 
df_shows_country['TV Show']=df_shows_country['TV Show'].fillna(0)
df_shows_country['Movie']=df_shows_country['Movie'].fillna(0)

#Create total movies_tvshows column:
df_shows_country['movies_tvshows']=df_shows_country['Movie']+df_shows_country['TV Show']
df_shows_country=df_shows_country.sort_values('movies_tvshows', ascending=False).reset_index(drop=True)

#% over total column:
df_shows_country['perc_over_total']=df_shows_country['movies_tvshows']/sum(df_shows_country['movies_tvshows'])

#Top 5 share of total movies_tvshows: 65%
sum(df_shows_country['perc_over_total'][:5])

df_top5_country=df_shows_country[:5]
top5_countries=list(df_top5_country['country'])

#Treemap total movies/tvshows per country:
country_treemap_1=px.treemap(data_frame=df_shows_country[['movies_tvshows','country','Movie','TV Show']],
                             path=[px.Constant('Total movies and tv shows produced per country'),'country'],
                             values='movies_tvshows',
                  )
country_treemap_1.data[0].textinfo = 'label+value+percent parent'
country_treemap_1.layout.hovermode = False
country_treemap_1.show()

#Treemap movies per country:
country_treemap_2=px.treemap(data_frame=df_shows_country[['movies_tvshows','country','Movie','TV Show']],
                             path=[px.Constant('Total movies and tv shows produced per country'),'country'],
                             values='Movie',
                  )
country_treemap_2.data[0].textinfo = 'label+value+percent parent'
country_treemap_2.layout.hovermode = False
country_treemap_2.show()

#Treemap tvshows per country:
country_treemap_3=px.treemap(data_frame=df_shows_country[['movies_tvshows','country','Movie','TV Show']],
                             path=[px.Constant('Total movies and tv shows produced per country'),'country'],
                             values='TV Show',
                  )
country_treemap_3.data[0].textinfo = 'label+value+percent parent'
country_treemap_3.layout.hovermode = False
country_treemap_3.show()

---------------------------------------------------------------------------------------------------------------

#Number of movies/tv shows added per year: bar plot

#Quantity of movies/tvshows per country:
df_shows_yearadded=nf_titles_df_final.groupby(['year_added','type'],as_index = False)['show_id'].count()
df_shows_yearadded=df_shows_yearadded.pivot('year_added', 'type', 'show_id').reset_index()

#Replace countries with Nan values of movies/tvshows: 
df_shows_yearadded['TV Show']=df_shows_yearadded['TV Show'].fillna(0)
df_shows_yearadded['Movie']=df_shows_yearadded['Movie'].fillna(0)

#Create total movies_tvshows column:
df_shows_yearadded['movies_tvshows']=df_shows_yearadded['Movie']+df_shows_yearadded['TV Show']
df_shows_yearadded=df_shows_yearadded.sort_values('year_added').reset_index(drop=True)
df_shows_yearadded

#Bar plot movies/tvshows added per year:
mtv_yearadded=px.bar(data_frame=df_shows_yearadded,
                     x='year_added',
                     y=['Movie','TV Show'],
                     text='movies_tvshows',
                     title="Total movies and tv shows added per year",
                     hover_data={'movies_tvshows':False},
                     labels={'value':'Quantity',
                             'year_added':'Year',
                             'variable':'Type'}
              )
mtv_yearadded.update_traces(textposition='outside',
                            hovertemplate='<b>Year: </b>%{x}<br><b>Quantity: </b>%{y}')
mtv_yearadded.update_layout(legend=dict(
                            yanchor="top",
                            y=0.99,
                            xanchor="left",
                            x=0.01)
              )
mtv_yearadded.show()

#Bar plot movies/tvshows added per year:
mtv_yearadded=px.bar(data_frame=df_shows_yearadded,
                     x='year_added',
                     y='Movie',
                     text='Movie',
                     title="Total movies added per year",
                     labels={'Movie':'Quantity',
                             'year_added':'Year'}
              )
mtv_yearadded.update_traces(textposition='outside',
                            hovertemplate='<b>Year: </b>%{x}<br><b>Quantity: </b>%{y}')
mtv_yearadded.update_layout(showlegend=False)
mtv_yearadded.add_annotation(x=13, y=200,
            text="<br>Only five</br>months</br> of year 2021",
            showarrow=True,
            font=dict(family="Arial",
                      size=16,
                      color="#ffffff"
                 ),
            align="center",
            arrowhead=2,
            arrowsize=1,
            arrowwidth=2,
            arrowcolor="#636363",
            ax=30,
            ay=-80,
            bordercolor="#c7c7c7",
            borderwidth=2,
            borderpad=4,
            bgcolor="#ff7f0e",
            opacity=0.8)
mtv_yearadded.show()

#Bar plot movies/tvshows added per year:
mtv_yearadded=px.bar(data_frame=df_shows_yearadded,
                     x='year_added',
                     y='TV Show',
                     text='TV Show',
                     title="Total tv shows added per year",
                     labels={'TV Show':'Quantity',
                             'year_added':'Year'}
              )
mtv_yearadded.update_traces(textposition='outside',
                            hovertemplate='<b>Year: </b>%{x}<br><b>Quantity: </b>%{y}')
mtv_yearadded.update_layout(showlegend=False)
mtv_yearadded.add_annotation(x=13, y=8,
            text="<br>Only five</br>months</br> of year 2021",
            showarrow=True,
            font=dict(family="Arial",
                      size=16,
                      color="#ffffff"
                 ),
            align="center",
            arrowhead=2,
            arrowsize=1,
            arrowwidth=2,
            arrowcolor="#636363",
            ax=30,
            ay=-80,
            bordercolor="#c7c7c7",
            borderwidth=2,
            borderpad=4,
            bgcolor="#ff7f0e",
            opacity=0.8)
mtv_yearadded.show()

---------------------------------------------------------------------------------------------------------------

#Number of movies/tvshows per cast: 

#Quantity of movies/tvshows per actor:
df_shows_cast=nf_df_ex_cast2.groupby(['cast'],as_index = False)['show_id'].count()

#Check cast with Nan values of movies/tvshows: 0 
df_shows_cast.loc[df_shows_cast['show_id'].isnull(),:]

#Sort
df_shows_cast=df_shows_cast.sort_values('show_id',ascending=False).reset_index(drop=True)

#% over total column: df_shows_country['perc_over_total']
df_shows_cast['perc_over_total']=df_shows_cast['show_id']/sum(df_shows_cast['show_id'])

#Top 10 share of total movies_tvshows: 0,7%
sum(df_shows_cast['perc_over_total'][:10])

df_shows_cast.describe()

---------------------------------------------------------------------------------------------------------------

#Number of cast per country:

#Quantity of cast per country:
df_shows_countrycast=nf_df_ex_cast.groupby(['country'],as_index = False)['cast'].count()

#Check cast with Nan values of movies/tvshows: 0 
df_shows_countrycast.loc[df_shows_countrycast['cast'].isnull(),:]

#Sort
df_shows_countrycast=df_shows_countrycast.sort_values('cast',ascending=False).reset_index(drop=True)

#Treemap total cast per country:
countrycast_treemap=px.treemap(data_frame=df_shows_countrycast[['country','cast']],
                             path=[px.Constant('Total cast per country'),'country'],
                             values='cast',
                  )
countrycast_treemap.data[0].textinfo = 'label+value+percent parent'
countrycast_treemap.layout.hovermode = False
countrycast_treemap.show()

---------------------------------------------------------------------------------------------------------------


