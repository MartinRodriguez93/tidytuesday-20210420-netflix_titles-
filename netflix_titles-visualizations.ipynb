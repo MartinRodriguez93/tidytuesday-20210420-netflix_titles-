#Movies/tv shows produced per country: treemap

#Quantity of movies/tvshows per country:
df_shows_country=nf_df_ex_country.groupby(['country','type'],as_index = False)['show_id'].count()
df_shows_country=df_shows_country.pivot('country', 'type', 'show_id').reset_index()

#Replace countries with Nan values of movies/tvshows: 
df_shows_country['TV Show']=df_shows_country['TV Show'].fillna(0)
df_shows_country['Movie']=df_shows_country['Movie'].fillna(0)

#Create total movies_tvshows column:
df_shows_country['movies_tvshows']=df_shows_country['Movie']+df_shows_country['TV Show']
df_shows_country=df_shows_country.sort_values('movies_tvshows', ascending=False).reset_index(drop=True)

#% over total column:
df_shows_country['perc_over_total']=df_shows_country['movies_tvshows']/sum(df_shows_country['movies_tvshows'])

#Top 5 share of total movies_tvshows: 65%
sum(df_shows_country['perc_over_total'][:5])

df_top5_country=df_shows_country[:5]
top5_countries=list(df_top5_country['country'])

#Treemap total movies/tvshows per country:
country_treemap_1=px.treemap(data_frame=df_shows_country[['movies_tvshows','country','Movie','TV Show']],
                             path=[px.Constant('Total movies and tv shows produced per country'),'country'],
                             values='movies_tvshows',
                  )
country_treemap_1.data[0].textinfo = 'label+value+percent parent'
country_treemap_1.layout.hovermode = False
country_treemap_1.show()

#Treemap movies per country:
country_treemap_2=px.treemap(data_frame=df_shows_country[['movies_tvshows','country','Movie','TV Show']],
                             path=[px.Constant('Total movies and tv shows produced per country'),'country'],
                             values='Movie',
                  )
country_treemap_2.data[0].textinfo = 'label+value+percent parent'
country_treemap_2.layout.hovermode = False
country_treemap_2.show()

#Treemap tvshows per country:
country_treemap_3=px.treemap(data_frame=df_shows_country[['movies_tvshows','country','Movie','TV Show']],
                             path=[px.Constant('Total movies and tv shows produced per country'),'country'],
                             values='TV Show',
                  )
country_treemap_3.data[0].textinfo = 'label+value+percent parent'
country_treemap_3.layout.hovermode = False
country_treemap_3.show()
