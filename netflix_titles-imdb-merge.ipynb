#IMDB datasets source: https://www.imdb.com/interfaces/

imdb_title_basics_raw=pd.read_csv('/Users/martinrodriguez/Archivos Martin/Data Analytics/GitHub/netflix_titles/Datasets/title.basics.tsv', sep = '\t')
imdb_title_ratings_raw=pd.read_csv('/Users/martinrodriguez/Archivos Martin/Data Analytics/GitHub/netflix_titles/Datasets/title.ratings.tsv', sep = '\t')
imdb_title_crew_raw=pd.read_csv('/Users/martinrodriguez/Archivos Martin/Data Analytics/GitHub/netflix_titles/Datasets/title.crew.tsv', sep = '\t')
imdb_title_names_raw=pd.read_csv('/Users/martinrodriguez/Archivos Martin/Data Analytics/GitHub/netflix_titles/Datasets/name.basics.tsv', sep = '\t')

#Check unique tconst and nconst values (should be 0): 0
len(set(list(imdb_title_basics_raw['tconst'])))-imdb_title_basics_raw.shape[0]
len(set(list(imdb_title_ratings_raw['tconst'])))-imdb_title_ratings_raw.shape[0]
len(set(list(imdb_title_crew_raw['tconst'])))-imdb_title_crew_raw.shape[0]
len(set(list(imdb_title_names_raw['nconst'])))-imdb_title_names_raw.shape[0]

----------------------------------------------------------------------------------------------------------

#Merge netflix with imdb:
nf_imdb_merge_master=pd.merge(nf_titles_df_final,
                       imdb_title_basics_raw,
                       how="left",
                       left_on=["title"],
                       right_on=["primaryTitle"]
                      )

#Check merge DF title len vs nf DF title len (should be 0): 34479 for repeated titltes in imdb_title_basics_raw
len(list(nf_imdb_merge_master['title']))-len(list(nf_titles_df_final['title']))

----------------------------------------------------------------------------------------------------------

#Replace '\\N' with 0 in startYear:
nf_imdb_merge=nf_imdb_merge_master.loc[nf_imdb_merge_master['startYear']!='\\N',:]
nf_imdb_merge=nf_imdb_merge.loc[nf_imdb_merge['runtimeMinutes']!='\\N',:]

#Create column of movies/tv shows not found in imdb:
nf_imdb_merge['imdb_merge']=np.where(nf_imdb_merge['startYear']
                                            .isnull(),'not_found_imdb','found_imdb'
                                           )

#Relace NaN with 0 in startYear and runtimeMinutes:
nf_imdb_merge['startYear']=nf_imdb_merge['startYear'].fillna(0)
nf_imdb_merge['runtimeMinutes']=nf_imdb_merge['runtimeMinutes'].fillna(0)

#Change datatypes:
nf_imdb_merge['startYear']=nf_imdb_merge['startYear'].astype(str).astype(int)
nf_imdb_merge['runtimeMinutes']=nf_imdb_merge['runtimeMinutes'].astype(str).astype(int)

#Create column to cheak realease year and minutes_check:
nf_imdb_merge['release_year_check']=nf_imdb_merge['release_year']-nf_imdb_merge['startYear']
nf_imdb_merge['minutes_check']=nf_imdb_merge['duration_list_q']-nf_imdb_merge['runtimeMinutes']

#Reset index:
nf_imdb_merge=nf_imdb_merge.reset_index(drop=True)

#Clean duplicate movies/tv shows from nf_imdb_merge based on release year:
nf_imdb_merge_clean=nf_imdb_merge.loc[nf_imdb_merge['release_year_check']==0,:]

#Clean duplicate movies/tv shows from nf_imdb_merge_clean based on minutes:
nf_imdb_merge_clean=nf_imdb_merge_clean.loc[nf_imdb_merge_clean['minutes_check']==0,:]

----------------------------------------------------------------------------------------------------------

#Merge final:
nf_imdb_merge_final=pd.merge(nf_titles_df_final,
                       nf_imdb_merge_clean,
                       how="left",
                       left_on=["title"],
                       right_on=["primaryTitle"],
                       suffixes=('', '_drop'))
nf_imdb_merge_final.drop([col for col in nf_imdb_merge_final.columns if 'drop' in col], axis=1, inplace=True)

#Check found_imdb (should be 0): 0
nf_imdb_merge_final['imdb_merge'].value_counts()[0]-nf_imdb_merge_clean.shape[0]

#Create not_found_imdb:
nf_imdb_merge_final['imdb_merge']=np.where(nf_imdb_merge_final['imdb_merge']
                                          .isnull(),
                                          'not_found_imdb',
                                          'found_imdb'
        )

----------------------------------------------------------------------------------------------------------

#Merge title_crew:
nf_imdb_merge_final=pd.merge(nf_imdb_merge_final,
                       imdb_title_crew_raw,
                       how="left",
                       left_on=['tconst'],
                       right_on=["tconst"],
                       suffixes=('', '_drop'))
nf_imdb_merge_final.drop([col for col in nf_imdb_merge_final.columns if 'drop' in col], axis=1, inplace=True)

----------------------------------------------------------------------------------------------------------

#Merge names:
nf_imdb_merge_final=pd.merge(nf_imdb_merge_final,
                       imdb_title_names_raw,
                       how="left",
                       left_on=['directors'],
                       right_on=["nconst"],
                       suffixes=('', '_drop'))
nf_imdb_merge_final.drop([col for col in nf_imdb_merge_final.columns if 'drop' in col], axis=1, inplace=True)

----------------------------------------------------------------------------------------------------------

#DF based on nf_imdb_merge_clean showing unique movies/tv shows: The Darkness and Delirium
df_dup=nf_imdb_merge_clean['title'].value_counts().reset_index()
list_dup=list(df_dup.loc[df_dup['title']>1,:]['index'])

#Remove duplicate movies with non-matching director:
df_dup2=nf_imdb_merge_final.loc[nf_imdb_merge_final['title'].isin(list_dup),:]
index_dup=df_dup2[df_dup2['director'] != df_dup2['primaryName']].index
nf_imdb_merge_final.drop(index_dup, inplace=True)

----------------------------------------------------------------------------------------------------------

#Merge ratings:
nf_imdb_merge_final=pd.merge(nf_imdb_merge_final,
                       imdb_title_ratings_raw,
                       how="left",
                       left_on=['tconst'],
                       right_on=['tconst'],
                       suffixes=('', '_drop'))
nf_imdb_merge_final.drop([col for col in nf_imdb_merge_final.columns if 'drop' in col], axis=1, inplace=True)

----------------------------------------------------------------------------------------------------------

#Reset index:
nf_imdb_merge_final=nf_imdb_merge_final.reset_index(drop=True)

----------------------------------------------------------------------------------------------------------

#Filter nf_imdb_merge_final by found_imdb:
nf_imdb_merge_final_found=nf_imdb_merge_final.loc[nf_imdb_merge_final['imdb_merge']=='found_imdb',:]

#Replace movies/tv shows with no avg rating:
nf_imdb_merge_final_found['averageRating']=np.where(nf_imdb_merge_final_found['averageRating']
                                                    .isnull(),
                                                    0,
                                                    nf_imdb_merge_final_found['averageRating']
                                                   )

----------------------------------------------------------------------------------------------------------

#DF movies by avg rating:
df_movies_rating=nf_imdb_merge_final_found.loc[:,['title','averageRating']].sort_values('averageRating',ascending=False).reset_index(drop=True)

----------------------------------------------------------------------------------------------------------

#Countries with higher weighted avg rating:

#Explode country column with more than 1 country:
nf_imdb_merge_final_found_excountry=nf_imdb_merge_final_found.assign(country=nf_imdb_merge_final_found['country'].str.split(",")).explode('country')

#Clean ' ' in country list:
countryimdb_list=[i for i in nf_imdb_merge_final_found_excountry['country']]
countryimdb_list2=[i.split(',')[0].strip() for i in countryimdb_list]

#Replace column with countryimdb_list:
nf_imdb_merge_final_found_excountry['country']=countryimdb_list2

#Reset index after explode:
nf_imdb_merge_final_found_excountry=nf_imdb_merge_final_found_excountry.reset_index(drop=True)

#Check for '' extra index country:
nf_imdb_merge_final_found_excountry=nf_imdb_merge_final_found_excountry.loc[nf_imdb_merge_final_found_excountry['country']!='',:]

#Reset index after loc:
nf_imdb_merge_final_found_excountry=nf_imdb_merge_final_found_excountry.reset_index(drop=True)

#Check unique show_id (should be 0): 0
len(set(list(nf_imdb_merge_final_found_excountry['show_id'])))-len(set(list(nf_imdb_merge_final_found_excountry['show_id'])))

----------------------------------------------------------------------------------------------------------

#DF avg rating per country and # of titles per country:
df_country_rating=(nf_imdb_merge_final_found_excountry.groupby('country')
                                                      .agg({'averageRating':'mean','show_id':'count'})
                                                      .reset_index()
                                                      .sort_values('show_id',
                                                                    ascending=False)
                                                      .reset_index(drop=True)
)

#Add weighted avg column:
df_country_rating['w_avg']=df_country_rating['averageRating']*df_country_rating['show_id']/sum(df_country_rating['show_id'])
